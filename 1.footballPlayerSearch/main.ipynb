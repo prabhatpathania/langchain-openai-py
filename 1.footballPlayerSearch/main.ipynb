{
 "cells": [
  {
   "cell_type": "code",
   "execution_count": 1,
   "id": "25df4eff-58b8-44dd-8c36-c291419ccf7b",
   "metadata": {},
   "outputs": [],
   "source": [
    "## Integrate our code with OpenAI API\n",
    "\n",
    "import os\n",
    "from dotenv import load_dotenv, find_dotenv\n",
    "\n",
    "from langchain_openai import OpenAI\n",
    "from langchain_core.prompts import PromptTemplate\n",
    "from langchain_core.runnables import RunnableSequence, RunnableMap\n",
    "from langchain_core.output_parsers import StrOutputParser"
   ]
  },
  {
   "cell_type": "code",
   "execution_count": 2,
   "id": "752cc588-cc8b-48b5-941a-de7dc39107d4",
   "metadata": {},
   "outputs": [],
   "source": [
    "_ = load_dotenv(find_dotenv()) # read local .env file"
   ]
  },
  {
   "cell_type": "code",
   "execution_count": 3,
   "id": "98b50968-8b3c-447a-a53b-96bffc139aa1",
   "metadata": {},
   "outputs": [],
   "source": [
    "## Prompt Template\n",
    "prompt_1=PromptTemplate(\n",
    "    input_variables=[\"name\"],\n",
    "    template=\"In which clubs did this football player play: {name}\")\n",
    "\n",
    "# Define the second prompt\n",
    "prompt_2 = PromptTemplate(\n",
    "    input_variables=[\"summary\", \"name\"],\n",
    "    template=\"Expand on this summary in less than 200 words: {summary}, and briefly talk about current situation of this player: {name}\")"
   ]
  },
  {
   "cell_type": "code",
   "execution_count": 4,
   "id": "148f3f68-03d4-4893-8e1a-66bbf626a02d",
   "metadata": {},
   "outputs": [],
   "source": [
    "## OpenAI LLMs\n",
    "llm=OpenAI(temperature=0.8)"
   ]
  },
  {
   "cell_type": "code",
   "execution_count": 5,
   "id": "dc659252-d676-4b5d-859f-afc990e51d0a",
   "metadata": {},
   "outputs": [],
   "source": [
    "##Runnable Sequence\n",
    "chain = RunnableSequence(\n",
    "                prompt_1 \n",
    "                | llm \n",
    "                | StrOutputParser() \n",
    "                | RunnableMap({ \"summary\": lambda x: x,\n",
    "                                \"name\": lambda y: y}) \n",
    "                | prompt_2 \n",
    "                | llm \n",
    "                | StrOutputParser()\n",
    ")"
   ]
  },
  {
   "cell_type": "code",
   "execution_count": 6,
   "id": "d11c7031-e60c-481e-9ccd-936258e9b79e",
   "metadata": {},
   "outputs": [
    {
     "name": "stdout",
     "output_type": "stream",
     "text": [
      "\n",
      "\n",
      "Sporting CP, also known as Sporting Lisbon, is a Portuguese football club based in Lisbon. They have a long history of success, having won multiple domestic titles and the UEFA Cup Winners' Cup in 1964. In recent years, they have been known for their youth academy, which has produced top players like Cristiano Ronaldo and Bruno Fernandes.\n",
      "\n",
      "Manchester United is one of the most well-known and successful football clubs in the world. Based in Manchester, England, they have won numerous Premier League titles and have a strong rivalry with fellow English club, Manchester City. They have a star-studded squad, with players like Paul Pogba and Marcus Rashford leading the way.\n",
      "\n",
      "Real Madrid is a Spanish football club that has dominated both domestically and internationally. With an impressive 13 Champions League titles, they are known for their Galactico signings and star players like Gareth Bale and Karim Benzema. However, they have been struggling in recent years, with the departure of Ronaldo and the ongoing search for a replacement.\n",
      "\n",
      "Juventus is a top Italian club, based in Turin. They have won multiple Serie A titles and are known for their strong defensive style of play. Currently, they have one of the best players in the world, Cristiano Ronaldo, on their team\n"
     ]
    }
   ],
   "source": [
    "print(chain.invoke({\"name\": \"C. Ronaldo\"}))"
   ]
  },
  {
   "cell_type": "code",
   "execution_count": null,
   "id": "abd42f02-8533-467b-a747-b4311ff4f282",
   "metadata": {},
   "outputs": [],
   "source": []
  }
 ],
 "metadata": {
  "kernelspec": {
   "display_name": "Python 3 (ipykernel)",
   "language": "python",
   "name": "python3"
  },
  "language_info": {
   "codemirror_mode": {
    "name": "ipython",
    "version": 3
   },
   "file_extension": ".py",
   "mimetype": "text/x-python",
   "name": "python",
   "nbconvert_exporter": "python",
   "pygments_lexer": "ipython3",
   "version": "3.12.4"
  }
 },
 "nbformat": 4,
 "nbformat_minor": 5
}
